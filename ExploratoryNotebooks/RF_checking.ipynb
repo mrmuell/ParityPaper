{
 "metadata": {
  "name": "",
  "signature": "sha256:17a12a6284c1762aa809b86ac086dce802502fe17273fd354086332008e32426"
 },
 "nbformat": 3,
 "nbformat_minor": 0,
 "worksheets": [
  {
   "cells": [
    {
     "cell_type": "code",
     "collapsed": false,
     "input": [
      "import dendropy\n",
      "from dendropy.utility.fileutils import find_files\n",
      "import numpy as np"
     ],
     "language": "python",
     "metadata": {},
     "outputs": [],
     "prompt_number": 1
    },
    {
     "cell_type": "code",
     "collapsed": false,
     "input": [
      "taxa = dendropy.TaxonSet()\n",
      "\n",
      "ours = dendropy.Tree.get_from_path('../Trees/MLE/ExaML_result.SquamataPyron.MLE.3b', 'newick', taxon_set=taxa)"
     ],
     "language": "python",
     "metadata": {},
     "outputs": [],
     "prompt_number": 58
    },
    {
     "cell_type": "code",
     "collapsed": false,
     "input": [
      "non_ml = dendropy.Tree.get_from_path('../Trees/MLE/ExaML_result.SquamataPyron.MLE.10b', 'newick', taxon_set = taxa)\n",
      "non_ml.deroot()\n",
      "print ours.symmetric_difference(non_ml)"
     ],
     "language": "python",
     "metadata": {},
     "outputs": [],
     "prompt_number": 80
    },
    {
     "cell_type": "code",
     "collapsed": false,
     "input": [
      "print ours.is_rooted\n",
      "print non_ml.is_rooted"
     ],
     "language": "python",
     "metadata": {},
     "outputs": [],
     "prompt_number": 64
    },
    {
     "cell_type": "code",
     "collapsed": false,
     "input": [
      "rfs = [tree.symmetric_difference(pb_o) for tree in uotrees]"
     ],
     "language": "python",
     "metadata": {},
     "outputs": [],
     "prompt_number": 52
    },
    {
     "cell_type": "code",
     "collapsed": false,
     "input": [
      "rfs"
     ],
     "language": "python",
     "metadata": {},
     "outputs": [],
     "prompt_number": 8
    },
    {
     "cell_type": "code",
     "collapsed": false,
     "input": [
      "olist = find_files(top='garli_opt/', filename_filter='*.tre')\n",
      "print olist"
     ],
     "language": "python",
     "metadata": {},
     "outputs": [],
     "prompt_number": 3
    },
    {
     "cell_type": "code",
     "collapsed": false,
     "input": [
      "otrees = [dendropy.Tree.get_from_path(filename, \"nexus\") for filename in olist]"
     ],
     "language": "python",
     "metadata": {},
     "outputs": []
    },
    {
     "cell_type": "code",
     "collapsed": false,
     "input": [
      "n = len(uotrees)\n",
      "udiffarray = np.zeros((n,n))\n",
      "\n",
      "for i, ele1 in enumerate(uotrees):\n",
      "    for j, ele2 in enumerate(uotrees):\n",
      "        if j >= i:\n",
      "            break # Since the matrix is symmetrical we don't need to\n",
      "                  # calculate everything\n",
      "        difference = ele1.symmetric_difference(ele2) \n",
      "        udiffarray[i, j] = difference\n",
      "        udiffarray[j, i] = difference"
     ],
     "language": "python",
     "metadata": {},
     "outputs": []
    },
    {
     "cell_type": "code",
     "collapsed": false,
     "input": [
      "diffarray"
     ],
     "language": "python",
     "metadata": {},
     "outputs": []
    },
    {
     "cell_type": "code",
     "collapsed": false,
     "input": [
      "diffarray"
     ],
     "language": "python",
     "metadata": {},
     "outputs": [],
     "prompt_number": 38
    },
    {
     "cell_type": "code",
     "collapsed": false,
     "input": [
      "o_tl = [tree.length() for tree in otrees]\n",
      "print o_tl"
     ],
     "language": "python",
     "metadata": {},
     "outputs": [],
     "prompt_number": 36
    },
    {
     "cell_type": "code",
     "collapsed": false,
     "input": [
      "uo_tl = [mle.length() for mle in uotrees]\n",
      "print uo_tl"
     ],
     "language": "python",
     "metadata": {},
     "outputs": [],
     "prompt_number": 39
    },
    {
     "cell_type": "code",
     "collapsed": false,
     "input": [],
     "language": "python",
     "metadata": {},
     "outputs": []
    }
   ],
   "metadata": {}
  }
 ]
}